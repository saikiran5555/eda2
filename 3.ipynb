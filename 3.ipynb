{
 "cells": [
  {
   "cell_type": "code",
   "execution_count": 2,
   "id": "b8dc6660",
   "metadata": {},
   "outputs": [
    {
     "name": "stdout",
     "output_type": "stream",
     "text": [
      "Minimum Price: 1105\n",
      "Maximum Price: 123071\n",
      "Range of Prices: 121966\n"
     ]
    }
   ],
   "source": [
    "import pandas as pd\n",
    "\n",
    "flight_data = pd.read_csv('Clean_Dataset.csv')\n",
    "\n",
    "min_price = flight_data['price'].min()\n",
    "max_price = flight_data['price'].max()\n",
    "price_range = max_price - min_price\n",
    "\n",
    "\n",
    "print(f\"Minimum Price: {min_price}\")\n",
    "print(f\"Maximum Price: {max_price}\")\n",
    "print(f\"Range of Prices: {price_range}\")\n"
   ]
  },
  {
   "cell_type": "code",
   "execution_count": null,
   "id": "45849f14",
   "metadata": {},
   "outputs": [],
   "source": []
  }
 ],
 "metadata": {
  "kernelspec": {
   "display_name": "Python 3 (ipykernel)",
   "language": "python",
   "name": "python3"
  },
  "language_info": {
   "codemirror_mode": {
    "name": "ipython",
    "version": 3
   },
   "file_extension": ".py",
   "mimetype": "text/x-python",
   "name": "python",
   "nbconvert_exporter": "python",
   "pygments_lexer": "ipython3",
   "version": "3.10.9"
  }
 },
 "nbformat": 4,
 "nbformat_minor": 5
}
