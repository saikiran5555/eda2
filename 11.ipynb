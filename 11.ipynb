{
 "cells": [
  {
   "cell_type": "code",
   "execution_count": 1,
   "id": "dea7716e",
   "metadata": {},
   "outputs": [
    {
     "name": "stdout",
     "output_type": "stream",
     "text": [
      "App Name                  2\n",
      "App Id                    0\n",
      "Category                  0\n",
      "Rating                22883\n",
      "Rating Count          22883\n",
      "Installs                107\n",
      "Minimum Installs        107\n",
      "Maximum Installs          0\n",
      "Free                      0\n",
      "Price                     0\n",
      "Currency                135\n",
      "Size                    196\n",
      "Minimum Android        6530\n",
      "Developer Id             33\n",
      "Developer Website    760835\n",
      "Developer Email          31\n",
      "Released              71053\n",
      "Last Updated              0\n",
      "Content Rating            0\n",
      "Privacy Policy       420953\n",
      "Ad Supported              0\n",
      "In App Purchases          0\n",
      "Editors Choice            0\n",
      "Scraped Time              0\n",
      "dtype: int64\n"
     ]
    }
   ],
   "source": [
    "import pandas as pd\n",
    "\n",
    "\n",
    "dataset = pd.read_csv('Google-Playstore.csv')\n",
    "missing_values = dataset.isnull().sum()\n",
    "print(missing_values)\n"
   ]
  },
  {
   "cell_type": "code",
   "execution_count": null,
   "id": "ed5c33f4",
   "metadata": {},
   "outputs": [],
   "source": []
  }
 ],
 "metadata": {
  "kernelspec": {
   "display_name": "Python 3 (ipykernel)",
   "language": "python",
   "name": "python3"
  },
  "language_info": {
   "codemirror_mode": {
    "name": "ipython",
    "version": 3
   },
   "file_extension": ".py",
   "mimetype": "text/x-python",
   "name": "python",
   "nbconvert_exporter": "python",
   "pygments_lexer": "ipython3",
   "version": "3.10.9"
  }
 },
 "nbformat": 4,
 "nbformat_minor": 5
}
